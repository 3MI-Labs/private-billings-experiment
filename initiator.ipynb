{
 "cells": [
  {
   "cell_type": "markdown",
   "metadata": {},
   "source": [
    "### Experiment settings"
   ]
  },
  {
   "cell_type": "code",
   "execution_count": 12,
   "metadata": {},
   "outputs": [],
   "source": [
    "from private_billing.server import TCPAddress\n",
    "\n",
    "edge_address = TCPAddress(\"0.0.0.0\", 5555)"
   ]
  },
  {
   "cell_type": "code",
   "execution_count": 13,
   "metadata": {},
   "outputs": [],
   "source": [
    "import zmq\n",
    "from private_billing.messages import Message\n",
    "from private_billing.server import PickleEncoder\n",
    "\n",
    "ctxt = zmq.Context()\n",
    "sock = ctxt.socket(zmq.REQ)\n",
    "\n",
    "\n",
    "def send(msg: Message, target: TCPAddress):\n",
    "    with sock.connect(str(target)):\n",
    "        enc = PickleEncoder.encode(msg)\n",
    "        sock.send(enc)\n",
    "        repl = sock.recv()\n",
    "    return PickleEncoder.decode(repl)"
   ]
  },
  {
   "cell_type": "markdown",
   "metadata": {},
   "source": [
    "### Start bootstrap"
   ]
  },
  {
   "cell_type": "code",
   "execution_count": 19,
   "metadata": {},
   "outputs": [
    {
     "name": "stdout",
     "output_type": "stream",
     "text": [
      "\n"
     ]
    }
   ],
   "source": [
    "from src.experiment.experiment import BootStrapMessage\n",
    "\n",
    "def bootstrap():\n",
    "    msg = BootStrapMessage(None)\n",
    "    resp = send(msg, edge_address)\n",
    "    print(resp)\n",
    "bootstrap()"
   ]
  },
  {
   "cell_type": "markdown",
   "metadata": {},
   "source": [
    "### Start round"
   ]
  },
  {
   "cell_type": "code",
   "execution_count": 22,
   "metadata": {},
   "outputs": [],
   "source": [
    "from private_billing.messages import ContextMessage\n",
    "from private_billing.core import CycleContext, vector\n",
    "\n",
    "def send_context(cycle):\n",
    "    cyc_len = 744\n",
    "    cyc = CycleContext(\n",
    "        cycle,\n",
    "        cyc_len,\n",
    "        vector.new(cyc_len, 0.21),\n",
    "        vector.new(cyc_len, 0.05),\n",
    "        vector.new(cyc_len, 0.11),\n",
    "    )\n",
    "    msg = ContextMessage(None, cyc)\n",
    "    send(msg, edge_address)"
   ]
  },
  {
   "cell_type": "markdown",
   "metadata": {},
   "source": [
    "### Get telemetry data"
   ]
  },
  {
   "cell_type": "code",
   "execution_count": 23,
   "metadata": {},
   "outputs": [],
   "source": [
    "from pathlib import Path\n",
    "from src.experiment.telemetry import GetTelemetryMessage, TelemetryMessage\n",
    "\n",
    "def get_telemetry(cycle_id):\n",
    "    msg = GetTelemetryMessage(None, cycle_id)\n",
    "    resp: TelemetryMessage = send(msg, edge_address)\n",
    "    entries = resp.value\n",
    "    \n",
    "    if cycle_id == -1:\n",
    "        nr_cores = len(entries)\n",
    "    else:\n",
    "        nr_cores = (len(entries) - 1) // 2\n",
    "        \n",
    "    fname = Path(f\"telemetry-nr_cores_{nr_cores}_round_{cycle_id}.txt\")\n",
    "    \n",
    "    with fname.open('w') as fp:        \n",
    "        fp.writelines([str(entry) + \"\\n\" for entry in entries])\n",
    "    "
   ]
  },
  {
   "cell_type": "code",
   "execution_count": 24,
   "metadata": {},
   "outputs": [],
   "source": [
    "# run experiment\n",
    "import time\n",
    "\n",
    "for i in range(10):\n",
    "    send_context(i)\n",
    "    time.sleep(20)\n",
    "    get_telemetry(i)"
   ]
  }
 ],
 "metadata": {
  "kernelspec": {
   "display_name": "venv",
   "language": "python",
   "name": "python3"
  },
  "language_info": {
   "codemirror_mode": {
    "name": "ipython",
    "version": 3
   },
   "file_extension": ".py",
   "mimetype": "text/x-python",
   "name": "python",
   "nbconvert_exporter": "python",
   "pygments_lexer": "ipython3",
   "version": "3.10.12"
  }
 },
 "nbformat": 4,
 "nbformat_minor": 2
}
