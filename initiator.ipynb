{
 "cells": [
  {
   "cell_type": "markdown",
   "metadata": {},
   "source": [
    "### Experiment settings"
   ]
  },
  {
   "cell_type": "code",
   "execution_count": null,
   "metadata": {},
   "outputs": [],
   "source": [
    "from private_billing.server import TCPAddress\n",
    "\n",
    "edge_address = TCPAddress(\"0.0.0.0\", 5555)"
   ]
  },
  {
   "cell_type": "code",
   "execution_count": null,
   "metadata": {},
   "outputs": [],
   "source": [
    "import zmq\n",
    "from private_billing.messages import Message\n",
    "from private_billing.server import PickleEncoder\n",
    "\n",
    "ctxt = zmq.Context()\n",
    "sock = ctxt.socket(zmq.REQ)\n",
    "\n",
    "\n",
    "def send(msg: Message, target: TCPAddress):\n",
    "    with sock.connect(str(target)):\n",
    "        enc = PickleEncoder.encode(msg)\n",
    "        sock.send(enc)\n",
    "        repl = sock.recv()\n",
    "    return PickleEncoder.decode(repl)"
   ]
  },
  {
   "cell_type": "markdown",
   "metadata": {},
   "source": [
    "### Seed Exchange\n",
    "Where these are combined in the `private-billings` library, for the experiment the connect and seed exchange phase are separated, so that one can gather information on the seed exchange phase.\n",
    "To start the seed exchange phase, execute the following function.\n",
    "\n",
    "Especially for larger networks, this phase can take some time to finish.\n",
    "In a network with $ N $ core servers, $ N * (N-1) $  seed messages have to be exchanged.\n",
    "There are two ways to see whether this phase has concluded\n",
    "- check the logs and verify that $ N * (N-1) $ `SeedMessage`s are exchanged,\n",
    "- request telemetry data for cycle round $ -1 $ from the `edge` server. If it has received telemetry from all $ N $ core servers, the exchange phase has concluded.\n"
   ]
  },
  {
   "cell_type": "code",
   "execution_count": null,
   "metadata": {},
   "outputs": [],
   "source": [
    "from src.experiment.experiment import BootStrapMessage\n",
    "\n",
    "def bootstrap(edge: TCPAddress):\n",
    "    msg = BootStrapMessage(None)\n",
    "    resp = send(msg, edge)\n",
    "    print(resp)\n",
    "bootstrap(edge_address)"
   ]
  },
  {
   "cell_type": "markdown",
   "metadata": {},
   "source": [
    "### Start Billing Cycle\n",
    "The experiment uses the broadcast of a `ContextMessage(..., CycleContext(cycle_id, ...))` to trigger the billing for cycle `cycle_id`.\n",
    "After sending this context to the `edge` server, the `edge` broadcasts this to all `core` servers in the network.\n",
    "Upon receipt, a `core` server then loads its billing data from disk and sends this to the `edge`.\n",
    "Once the edge has received `Data` from all cores, it commences billing, and eventually sends each `core` their bill."
   ]
  },
  {
   "cell_type": "code",
   "execution_count": null,
   "metadata": {},
   "outputs": [],
   "source": [
    "from private_billing.messages import ContextMessage\n",
    "from private_billing.core import CycleContext, vector\n",
    "\n",
    "def send_context(cycle, edge: TCPAddress):\n",
    "    cyc_len = 744\n",
    "    cyc = CycleContext(\n",
    "        cycle,\n",
    "        cyc_len,\n",
    "        vector.new(cyc_len, 0.21),\n",
    "        vector.new(cyc_len, 0.05),\n",
    "        vector.new(cyc_len, 0.11),\n",
    "    )\n",
    "    msg = ContextMessage(None, cyc)\n",
    "    send(msg, edge)"
   ]
  },
  {
   "cell_type": "markdown",
   "metadata": {},
   "source": [
    "### Get telemetry data\n",
    "To get telemetry data (experiment results), request this data from the `edge` server with the following function."
   ]
  },
  {
   "cell_type": "code",
   "execution_count": null,
   "metadata": {},
   "outputs": [],
   "source": [
    "from pathlib import Path\n",
    "from src.experiment.telemetry import GetTelemetryMessage, TelemetryMessage\n",
    "\n",
    "def get_telemetry(cycle_id):\n",
    "    msg = GetTelemetryMessage(None, cycle_id)\n",
    "    resp: TelemetryMessage = send(msg, edge_address)\n",
    "    entries = resp.value\n",
    "    \n",
    "    if cycle_id == -1:\n",
    "        nr_cores = len(entries)\n",
    "    else:\n",
    "        nr_cores = (len(entries) - 1) // 2\n",
    "        \n",
    "    fname = Path(f\"telemetry-nr_cores_{nr_cores}_round_{cycle_id}.txt\")\n",
    "    \n",
    "    with fname.open('w') as fp:        \n",
    "        fp.writelines([str(entry) + \"\\n\" for entry in entries])\n",
    "    "
   ]
  },
  {
   "cell_type": "code",
   "execution_count": null,
   "metadata": {},
   "outputs": [],
   "source": [
    "# run experiment\n",
    "import time\n",
    "\n",
    "for i in range(10):\n",
    "    send_context(i, edge_address)\n",
    "    time.sleep(20)\n",
    "    get_telemetry(i)"
   ]
  }
 ],
 "metadata": {
  "kernelspec": {
   "display_name": "venv",
   "language": "python",
   "name": "python3"
  },
  "language_info": {
   "codemirror_mode": {
    "name": "ipython",
    "version": 3
   },
   "file_extension": ".py",
   "mimetype": "text/x-python",
   "name": "python",
   "nbconvert_exporter": "python",
   "pygments_lexer": "ipython3",
   "version": "3.10.12"
  }
 },
 "nbformat": 4,
 "nbformat_minor": 2
}
