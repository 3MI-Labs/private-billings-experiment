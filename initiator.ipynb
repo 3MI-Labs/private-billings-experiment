{
 "cells": [
  {
   "cell_type": "markdown",
   "metadata": {},
   "source": [
    "### Experiment settings"
   ]
  },
  {
   "cell_type": "code",
   "execution_count": null,
   "metadata": {},
   "outputs": [],
   "source": [
    "from private_billing.server import TCPAddress\n",
    "\n",
    "edge_address = TCPAddress(\"0.0.0.0\", 5555)"
   ]
  },
  {
   "cell_type": "code",
   "execution_count": null,
   "metadata": {},
   "outputs": [],
   "source": [
    "import zmq\n",
    "from private_billing.messages import Message\n",
    "from private_billing.server import PickleEncoder\n",
    "\n",
    "ctxt = zmq.Context()\n",
    "sock = ctxt.socket(zmq.REQ)\n",
    "\n",
    "\n",
    "def send(msg: Message, target: TCPAddress):\n",
    "    with sock.connect(str(target)):\n",
    "        enc = PickleEncoder.encode(msg)\n",
    "        sock.send(enc)\n",
    "        repl = sock.recv()\n",
    "    return PickleEncoder.decode(repl)"
   ]
  },
  {
   "cell_type": "markdown",
   "metadata": {},
   "source": [
    "### Start bootstrap"
   ]
  },
  {
   "cell_type": "code",
   "execution_count": null,
   "metadata": {},
   "outputs": [],
   "source": [
    "from src.experiment.experiment import BootStrapMessage\n",
    "\n",
    "msg = BootStrapMessage(None)\n",
    "resp = send(msg, edge_address)\n",
    "print(resp)"
   ]
  },
  {
   "cell_type": "markdown",
   "metadata": {},
   "source": [
    "### Start round"
   ]
  },
  {
   "cell_type": "code",
   "execution_count": null,
   "metadata": {},
   "outputs": [],
   "source": [
    "from private_billing.messages import ContextMessage\n",
    "from private_billing.core import CycleContext, vector\n",
    "\n",
    "cyc_len = 744\n",
    "cyc = CycleContext(\n",
    "    0,\n",
    "    cyc_len,\n",
    "    vector.new(cyc_len, 0.21),\n",
    "    vector.new(cyc_len, 0.05),\n",
    "    vector.new(cyc_len, 0.11),\n",
    ")\n",
    "msg = ContextMessage(None, cyc)\n",
    "resp = send(msg, edge_address)\n",
    "print(resp)"
   ]
  },
  {
   "cell_type": "markdown",
   "metadata": {},
   "source": [
    "### Get telemetry data"
   ]
  },
  {
   "cell_type": "code",
   "execution_count": null,
   "metadata": {},
   "outputs": [],
   "source": [
    "from src.experiment.telemetry import GetTelemetryMessage, TelemetryMessage\n",
    "\n",
    "msg = GetTelemetryMessage(None, 0)\n",
    "resp: TelemetryMessage = send(msg, edge_address)\n",
    "\n",
    "for val in resp.value:\n",
    "    print(val)"
   ]
  }
 ],
 "metadata": {
  "kernelspec": {
   "display_name": "venv",
   "language": "python",
   "name": "python3"
  },
  "language_info": {
   "codemirror_mode": {
    "name": "ipython",
    "version": 3
   },
   "file_extension": ".py",
   "mimetype": "text/x-python",
   "name": "python",
   "nbconvert_exporter": "python",
   "pygments_lexer": "ipython3",
   "version": "3.10.12"
  }
 },
 "nbformat": 4,
 "nbformat_minor": 2
}
